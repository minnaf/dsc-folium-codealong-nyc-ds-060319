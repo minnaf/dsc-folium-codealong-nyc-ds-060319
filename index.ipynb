{
 "cells": [
  {
   "cell_type": "markdown",
   "metadata": {},
   "source": [
    "# Folium - Codealong\n",
    "\n",
    "## Introduction \n",
    "\n",
    "In this codealong, we'll take a look at how to create an interactive map using the Folium package. From there, we'll return to APIs in the final lab for the day where you'll make an interactive map from your requests to the API!\n",
    "\n",
    "## Objectives\n",
    "\n",
    "You will be able to: \n",
    "* Create maps with Folium"
   ]
  },
  {
   "cell_type": "markdown",
   "metadata": {},
   "source": [
    "## Creating a Basemap\n",
    "\n",
    "Here we'll take a look at creating a basemap over the London region!"
   ]
  },
  {
   "cell_type": "code",
   "execution_count": 1,
   "metadata": {
    "scrolled": false
   },
   "outputs": [
    {
     "data": {
      "text/html": [
       "<div style=\"width:100%;\"><div style=\"position:relative;width:100%;height:0;padding-bottom:60%;\"><iframe src=\"data:text/html;charset=utf-8;base64,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\" style=\"position:absolute;width:100%;height:100%;left:0;top:0;border:none !important;\" allowfullscreen webkitallowfullscreen mozallowfullscreen></iframe></div></div>"
      ],
      "text/plain": [
       "<folium.folium.Map at 0x7f7c65175c50>"
      ]
     },
     "execution_count": 1,
     "metadata": {},
     "output_type": "execute_result"
    }
   ],
   "source": [
    "import folium\n",
    "\n",
    "lat = 51.51\n",
    "long = -0.14\n",
    "\n",
    "#Create a map of the area\n",
    "base_map = folium.Map([lat, long], zoom_start=13)\n",
    "base_map"
   ]
  },
  {
   "cell_type": "markdown",
   "metadata": {},
   "source": [
    "## Adding Markers to the Map\n",
    "\n",
    "Great! Now let's take a look at adding little markers to our map!\n",
    "\n",
    "**Note:** you may have to zoom out to see all of the markers!"
   ]
  },
  {
   "cell_type": "code",
   "execution_count": 2,
   "metadata": {},
   "outputs": [
    {
     "data": {
      "text/html": [
       "<div style=\"width:100%;\"><div style=\"position:relative;width:100%;height:0;padding-bottom:60%;\"><iframe src=\"data:text/html;charset=utf-8;base64,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\" style=\"position:absolute;width:100%;height:100%;left:0;top:0;border:none !important;\" allowfullscreen webkitallowfullscreen mozallowfullscreen></iframe></div></div>"
      ],
      "text/plain": [
       "<folium.folium.Map at 0x7f7c65175c50>"
      ]
     },
     "execution_count": 2,
     "metadata": {},
     "output_type": "execute_result"
    }
   ],
   "source": [
    "import numpy as np\n",
    "\n",
    "#Generate some random locations to add to our map\n",
    "x = [lat + np.random.uniform(-.1,.1) for i in range(20)]\n",
    "y = [long + np.random.uniform(-.1,.1) for i in range(20)]\n",
    "points = list(zip(x, y))\n",
    "for p in points:\n",
    "    lat = p[0]\n",
    "    long = p[1]\n",
    "    marker = folium.Marker(location=[lat, long])\n",
    "    marker.add_to(base_map)\n",
    "base_map"
   ]
  },
  {
   "cell_type": "markdown",
   "metadata": {},
   "source": [
    "## Adding Pop-up Boxes to Our Markers\n",
    "\n",
    "Often we may wish to not only place markers on the map, but to create interactive pop-ups which display information to that location. To do this, we can add a popup to our markers when adding them to the map! "
   ]
  },
  {
   "cell_type": "code",
   "execution_count": null,
   "metadata": {},
   "outputs": [],
   "source": [
    "for p in points:\n",
    "    lat = p[0]\n",
    "    long = p[1]\n",
    "    popup_text = \"Latitude: {}, Longitude: {}\".format(lat,long)\n",
    "    popup = folium.Popup(popup_text, parse_html=True)\n",
    "    marker = folium.Marker(location=[lat, long], popup=popup)\n",
    "    marker.add_to(base_map)\n",
    "base_map"
   ]
  },
  {
   "cell_type": "markdown",
   "metadata": {},
   "source": [
    "Now, if you click on the map markers, you should see a little information box pop up!\n",
    "\n",
    "## Summary \n",
    "\n",
    "In this codealong, we learned how to use Folium to create some cool interactive maps with only a few lines of python code! In the next lab, you'll synthesize your skills for the day together and create an interactive visualization map for data you retrieve from the Yelp API!"
   ]
  }
 ],
 "metadata": {
  "kernelspec": {
   "display_name": "Python 3",
   "language": "python",
   "name": "python3"
  },
  "language_info": {
   "codemirror_mode": {
    "name": "ipython",
    "version": 3
   },
   "file_extension": ".py",
   "mimetype": "text/x-python",
   "name": "python",
   "nbconvert_exporter": "python",
   "pygments_lexer": "ipython3",
   "version": "3.6.6"
  }
 },
 "nbformat": 4,
 "nbformat_minor": 2
}
